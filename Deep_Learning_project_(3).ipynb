{
  "cells": [
    {
      "cell_type": "code",
      "execution_count": null,
      "metadata": {
        "id": "EhzquHFl22Jk"
      },
      "outputs": [],
      "source": [
        "import re\n",
        "import pandas as pd\n",
        "\n",
        "#read the text file\n",
        "path = \"/content/WhatsApp Chat with TY AIML-B (Official) (1).txt\"\n",
        "f = open(path, 'r', encoding='utf-8')\n",
        "data = f.read()\n",
        "print(type(data))\n",
        "\n",
        "#regular expression to find the dates\n",
        "pattern = '\\d{1,2}/\\d{1,2}/\\d{2,4},\\s\\d{1,2}:\\d{2}\\s-\\s'\n",
        "\n",
        "#pass the pattern and data to split it to get the list of messages\n",
        "messages = re.split(pattern, data)[1:]\n",
        "print(messages)\n",
        "\n",
        "#extract all dates\n",
        "dates = re.findall(pattern, data)\n",
        "\n",
        "#create dataframe\n",
        "df = pd.DataFrame({'user_message': messages, 'message_date': dates})\n",
        "# convert message_date type\n",
        "df['message_date'] = pd.to_datetime(df['message_date'],format='%m/%d/%y, %H:%M - ')\n",
        "df.rename(columns={'message_date': 'date'}, inplace=True)\n",
        "df.head(4)"
      ]
    },
    {
      "cell_type": "code",
      "execution_count": null,
      "metadata": {
        "id": "PL9H_I5I3Qh_"
      },
      "outputs": [],
      "source": [
        "#separate Users and Message\n",
        "users = []\n",
        "messages = []\n",
        "for message in df['user_message']:\n",
        "    entry = re.split('([\\w\\W]+?):\\s', message)\n",
        "    if entry[1:]:  # user name\n",
        "        users.append(entry[1])\n",
        "        messages.append(\" \".join(entry[2:]))\n",
        "    else:\n",
        "        users.append('group_notification')\n",
        "        messages.append(entry[0])\n",
        "\n",
        "df['user'] = users\n",
        "df['message'] = messages\n",
        "df.drop(columns=['user_message'], inplace=True)"
      ]
    },
    {
      "cell_type": "code",
      "execution_count": null,
      "metadata": {
        "id": "qHaItHDQ3WSs"
      },
      "outputs": [],
      "source": [
        "#Extract multiple columns from the Date Column\n",
        "df['only_date'] = df['date'].dt.date\n",
        "df['year'] = df['date'].dt.year\n",
        "df['month_num'] = df['date'].dt.month\n",
        "df['month'] = df['date'].dt.month_name()\n",
        "df['day'] = df['date'].dt.day\n",
        "df['day_name'] = df['date'].dt.day_name()\n",
        "df['hour'] = df['date'].dt.hour\n",
        "df['minute'] = df['date'].dt.minute"
      ]
    },
    {
      "cell_type": "code",
      "execution_count": null,
      "metadata": {
        "id": "jqeLbkdp3ZU3"
      },
      "outputs": [],
      "source": [
        "#add period column that shows data capture between which 24 hour format\n",
        "period = []\n",
        "for hour in df[['day_name', 'hour']]['hour']:\n",
        "    if hour == 23:\n",
        "        period.append(str(hour) + \"-\" + str('00'))\n",
        "    elif hour == 0:\n",
        "        period.append(str('00') + \"-\" + str(hour + 1))\n",
        "    else:\n",
        "        period.append(str(hour) + \"-\" + str(hour + 1))\n",
        "\n",
        "df['period'] = period\n",
        "df.head()"
      ]
    },
    {
      "cell_type": "code",
      "execution_count": null,
      "metadata": {
        "id": "_CXdK6g_3buk"
      },
      "outputs": [],
      "source": [
        "#Total Messages\n",
        "df.shape[0]"
      ]
    },
    {
      "cell_type": "code",
      "execution_count": null,
      "metadata": {
        "id": "Ggku5wE63_ll"
      },
      "outputs": [],
      "source": [
        "words = []\n",
        "for message in df['message']:\n",
        "  words.extend(message.split())\n",
        "\n",
        "print(len(words))"
      ]
    },
    {
      "cell_type": "code",
      "execution_count": null,
      "metadata": {
        "id": "bPnn8-1E4Cnb"
      },
      "outputs": [],
      "source": [
        "#Number of Media Files shared\n",
        "df[df['message'] == '<Media omitted>\\n'].shape[0]"
      ]
    },
    {
      "cell_type": "code",
      "execution_count": null,
      "metadata": {
        "id": "M5aAuDzf4F52"
      },
      "outputs": [],
      "source": [
        "!pip install urlextract\n",
        "\n",
        "#Number of Links Shared\n",
        "from urlextract import URLExtract\n",
        "extract = URLExtract()\n",
        "\n",
        "links = []\n",
        "for message in df['message']:\n",
        "    links.extend(extract.find_urls(message))\n",
        "\n",
        "print(len(links))"
      ]
    },
    {
      "cell_type": "code",
      "execution_count": null,
      "metadata": {
        "id": "LFH1nwBu4Ib2"
      },
      "outputs": [],
      "source": [
        "import matplotlib.pyplot as plt\n",
        "\n",
        "x = df['user'].value_counts().head()\n",
        "user_names = x.index\n",
        "msg_count = x.values\n",
        "\n",
        "plt.bar(user_names, msg_count)\n",
        "plt.xticks(rotation='vertical')\n",
        "plt.show()"
      ]
    },
    {
      "cell_type": "code",
      "execution_count": null,
      "metadata": {
        "id": "9hBF-ZEo4NaD"
      },
      "outputs": [],
      "source": [
        "new_df = round(((df['user'].value_counts() / df.shape[0]) * 100), 2).reset_index().rename(\n",
        "        columns={'index': 'name', 'user': 'percent'})\n",
        "\n",
        "new_df.head()"
      ]
    },
    {
      "cell_type": "code",
      "execution_count": null,
      "metadata": {
        "id": "IdA6zf6v4PiD"
      },
      "outputs": [],
      "source": [
        "pip install wordcloud"
      ]
    },
    {
      "cell_type": "code",
      "execution_count": null,
      "metadata": {
        "id": "kpsh2eKw4RpR"
      },
      "outputs": [],
      "source": [
        "import string\n",
        "\n",
        "def remove_stop_words(message):\n",
        "  f = open('/content/stop_hinglish.txt', 'r')\n",
        "  stop_words = f.read()\n",
        "  y = []\n",
        "  for word in message.lower().split():\n",
        "      if word not in stop_words:\n",
        "          y.append(word)\n",
        "  return \" \".join(y)\n",
        "\n",
        "def remove_punctuation(message):\n",
        "  x = re.sub('[%s]'% re.escape(string.punctuation), '', message)\n",
        "  return x\n",
        "\n",
        "#Data Cleaning\n",
        "temp = df[df['user'] != 'group_notification'] #remove group notification\n",
        "temp = temp[temp['message'] != '<Media omitted>\\n'] #remove media message\n",
        "temp['message'] = temp['message'].apply(remove_stop_words) #remove stopwords\n",
        "temp['message'] = temp['message'].apply(remove_punctuation) #remove punctuations\n",
        "\n",
        "#Draw the wordCloud\n",
        "from wordcloud import WordCloud\n",
        "plt.figure(figsize=(20, 10))\n",
        "wc = WordCloud(width=1000,height=750,min_font_size=10,background_color='white')\n",
        "cloud = wc.generate(temp['message'].str.cat(sep=\" \"))\n",
        "plt.imshow(cloud)\n"
      ]
    },
    {
      "cell_type": "code",
      "execution_count": null,
      "metadata": {
        "id": "TUEaWu3C4VyA"
      },
      "outputs": [],
      "source": [
        "temp = df[df['user'] != 'group_notification'] #remove group notification\n",
        "temp = temp[temp['message'] != '<Media omitted>\\n']  #remove media msg\n",
        "temp['message'] = temp['message'].apply(remove_stop_words) #remove stop words\n",
        "temp['message'] = temp['message'].apply(remove_punctuation) #remove punctuations\n",
        "\n",
        "words = []\n",
        "for message in temp['message']:\n",
        "  words.extend(message.split())\n",
        "\n",
        "#apply counter\n",
        "from collections import Counter\n",
        "most_common_df = pd.DataFrame(Counter(words).most_common(20))\n",
        "most_common_df"
      ]
    },
    {
      "cell_type": "code",
      "execution_count": null,
      "metadata": {
        "id": "COSEEo3k4r70"
      },
      "outputs": [],
      "source": [
        "timeline = df.groupby(['year', 'month_num', 'month']).count()['message'].reset_index()\n",
        "month_timeline = []\n",
        "\n",
        "for i in range(timeline.shape[0]):\n",
        "  month_timeline.append(timeline['month'][i] + \"-\" + str(timeline['year'][i]))\n",
        "\n",
        "timeline['time'] = month_timeline\n",
        "\n",
        "#draw plot\n",
        "plt.figure(figsize=(12,6))\n",
        "plt.plot(timeline['time'], timeline['message'])\n",
        "plt.xticks(rotation='vertical')\n",
        "plt.show()"
      ]
    },
    {
      "cell_type": "code",
      "execution_count": null,
      "metadata": {
        "id": "N52Cp6pM4vWD"
      },
      "outputs": [],
      "source": [
        "daily_timeline = df.groupby('only_date').count()['message'].reset_index()\n",
        "\n",
        "plt.figure(figsize=(12,6))\n",
        "plt.plot(daily_timeline['only_date'], daily_timeline['message'])\n",
        "plt.show()"
      ]
    },
    {
      "cell_type": "code",
      "execution_count": null,
      "metadata": {
        "id": "d1WHVEoa433b"
      },
      "outputs": [],
      "source": [
        "busy_day = df['day_name'].value_counts()\n",
        "plt.figure(figsize=(12, 6))\n",
        "plt.bar(busy_day.index, busy_day.values, color='purple')\n",
        "plt.title(\"Busy Day\")\n",
        "plt.xticks(rotation='vertical')\n",
        "plt.show()"
      ]
    },
    {
      "cell_type": "code",
      "execution_count": null,
      "metadata": {
        "id": "aR6ugt9t461P"
      },
      "outputs": [],
      "source": [
        "busy_month = df['month'].value_counts()\n",
        "plt.figure(figsize=(12, 6))\n",
        "plt.bar(busy_month.index, busy_month.values, color='orange')\n",
        "plt.title(\"Busy Month\")\n",
        "plt.xticks(rotation='vertical')\n",
        "plt.show()"
      ]
    },
    {
      "cell_type": "code",
      "execution_count": null,
      "metadata": {
        "id": "IW230AtQ4-Oe"
      },
      "outputs": [],
      "source": [
        "import seaborn as sns\n",
        "plt.figure(figsize=(18, 9))\n",
        "sns.heatmap(df.pivot_table(index='day_name', columns='period', values='message',\n",
        "            aggfunc='count').fillna(0))\n",
        "plt.yticks(rotation='vertical')\n",
        "plt.show()"
      ]
    },
    {
      "cell_type": "code",
      "execution_count": null,
      "metadata": {
        "id": "aTTwId925BDf"
      },
      "outputs": [],
      "source": [
        "! pip install streamlit\n",
        "! pip install urlextract\n",
        "! pip install matplotlib\n",
        "! pip install wordcloud\n",
        "! pip install emoji"
      ]
    },
    {
      "cell_type": "code",
      "execution_count": null,
      "metadata": {
        "id": "FNDvvGq_5E1e"
      },
      "outputs": [],
      "source": [
        "import emoji\n",
        "\n",
        "emojis = []\n",
        "for message in df['message']:\n",
        "  emojis.extend([c for c in message if c in emoji.EMOJI_DATA])\n",
        "\n",
        "pd.DataFrame(Counter(emojis).most_common(len(Counter(emojis))))"
      ]
    },
    {
      "cell_type": "code",
      "execution_count": null,
      "metadata": {
        "id": "AoDyv0M85YRA"
      },
      "outputs": [],
      "source": [
        "import re\n",
        "import pandas as pd\n",
        "\n",
        "def preprocess(data):\n",
        "    pattern = '\\d{1,2}/\\d{1,2}/\\d{2,4},\\s\\d{1,2}:\\d{2}\\s-\\s'\n",
        "\n",
        "    messages = re.split(pattern, data)[1:]\n",
        "    dates = re.findall(pattern, data)\n",
        "\n",
        "    df = pd.DataFrame({'user_message': messages, 'message_date': dates})\n",
        "    # convert message_date type\n",
        "    df['message_date'] = pd.to_datetime(df['message_date'], format='%d/%m/%Y, %H:%M - ')\n",
        "\n",
        "    df.rename(columns={'message_date': 'date'}, inplace=True)\n",
        "\n",
        "    users = []\n",
        "    messages = []\n",
        "    for message in df['user_message']:\n",
        "        entry = re.split('([\\w\\W]+?):\\s', message)\n",
        "        if entry[1:]:  # user name\n",
        "            users.append(entry[1])\n",
        "            messages.append(\" \".join(entry[2:]))\n",
        "        else:\n",
        "            users.append('group_notification')\n",
        "            messages.append(entry[0])\n",
        "\n",
        "    df['user'] = users\n",
        "    df['message'] = messages\n",
        "    df.drop(columns=['user_message'], inplace=True)\n",
        "\n",
        "    df['only_date'] = df['date'].dt.date\n",
        "    df['year'] = df['date'].dt.year\n",
        "    df['month_num'] = df['date'].dt.month\n",
        "    df['month'] = df['date'].dt.month_name()\n",
        "    df['day'] = df['date'].dt.day\n",
        "    df['day_name'] = df['date'].dt.day_name()\n",
        "    df['hour'] = df['date'].dt.hour\n",
        "    df['minute'] = df['date'].dt.minute\n",
        "\n",
        "    period = []\n",
        "    for hour in df[['day_name', 'hour']]['hour']:\n",
        "        if hour == 23:\n",
        "            period.append(str(hour) + \"-\" + str('00'))\n",
        "        elif hour == 0:\n",
        "            period.append(str('00') + \"-\" + str(hour + 1))\n",
        "        else:\n",
        "            period.append(str(hour) + \"-\" + str(hour + 1))\n",
        "\n",
        "    df['period'] = period\n",
        "\n",
        "    return df"
      ]
    },
    {
      "cell_type": "code",
      "execution_count": null,
      "metadata": {
        "id": "LkBoCxmO5gGP"
      },
      "outputs": [],
      "source": [
        "from urlextract import URLExtract\n",
        "from wordcloud import WordCloud\n",
        "from collections import Counter\n",
        "import pandas as pd\n",
        "import string\n",
        "import re\n",
        "import emoji\n",
        "\n",
        "extract = URLExtract()\n",
        "\n",
        "def fetch_stats(selected_user, df):\n",
        "    if selected_user != 'Overall':\n",
        "        df = df[df['user'] == selected_user]\n",
        "\n",
        "    # fetch the number of messages\n",
        "    num_messages = df.shape[0]\n",
        "\n",
        "    # fetch the total number of words\n",
        "    words = []\n",
        "    for message in df['message']:\n",
        "        words.extend(message.split())\n",
        "\n",
        "    # fetch number of media messages\n",
        "    num_media_messages = df[df['message'] == '<Media omitted>\\n'].shape[0]\n",
        "\n",
        "    # fetch number of links shared\n",
        "    links = []\n",
        "    for message in df['message']:\n",
        "        links.extend(extract.find_urls(message))\n",
        "\n",
        "    return num_messages,len(words),num_media_messages,len(links)\n",
        "\n",
        "#func will only work in group chat analysis\n",
        "def most_busy_users(df):\n",
        "    x = df['user'].value_counts().head()\n",
        "    df = round((df['user'].value_counts() / df.shape[0]) * 100, 2).reset_index().rename(columns={'index': 'name', 'user': 'percent'})\n",
        "    return x,df\n",
        "\n",
        "def remove_stop_words(message):\n",
        "    f = open('stop_hinglish.txt', 'r')\n",
        "    stop_words = f.read()\n",
        "    y = []\n",
        "    for word in message.lower().split():\n",
        "        if word not in stop_words:\n",
        "            y.append(word)\n",
        "    return \" \".join(y)\n",
        "\n",
        "def remove_punctuation(message):\n",
        "  x = re.sub('[%s]'% re.escape(string.punctuation), '', message)\n",
        "  return x\n",
        "\n",
        "def create_wordcloud(selected_user,df):\n",
        "    if selected_user != 'Overall':\n",
        "        df = df[df['user'] == selected_user]\n",
        "\n",
        "    temp = df[df['user'] != 'group_notification']\n",
        "    temp = temp[temp['message'] != '<Media omitted>\\n']\n",
        "    temp['message'] = temp['message'].apply(remove_stop_words)\n",
        "    temp['message'] = temp['message'].apply(remove_punctuation)\n",
        "\n",
        "    wc = WordCloud(width=500,height=500,min_font_size=10,background_color='white')\n",
        "    df_wc = wc.generate(temp['message'].str.cat(sep=\" \"))\n",
        "    return df_wc\n",
        "\n",
        "def most_common_words(selected_user,df):\n",
        "    if selected_user != 'Overall':\n",
        "        df = df[df['user'] == selected_user]\n",
        "\n",
        "    temp = df[df['user'] != 'group_notification']\n",
        "    temp = temp[temp['message'] != '<Media omitted>\\n']\n",
        "    temp['message'] = temp['message'].apply(remove_stop_words)\n",
        "    temp['message'] = temp['message'].apply(remove_punctuation)\n",
        "    words = []\n",
        "\n",
        "    for message in temp['message']:\n",
        "        words.extend(message.split())\n",
        "\n",
        "    most_common_df = pd.DataFrame(Counter(words).most_common(20))\n",
        "    return most_common_df\n",
        "\n",
        "def emoji_helper(selected_user, df):\n",
        "    if selected_user != 'Overall':\n",
        "        df = df[df['user'] == selected_user]\n",
        "\n",
        "    emojis = []\n",
        "    for message in df['message']:\n",
        "        emojis.extend([c for c in message if c in emoji.EMOJI_DATA])\n",
        "\n",
        "    emoji_df = pd.DataFrame(Counter(emojis).most_common(len(Counter(emojis))))\n",
        "    return emoji_df\n",
        "\n",
        "def monthly_timeline(selected_user,df):\n",
        "    if selected_user != 'Overall':\n",
        "        df = df[df['user'] == selected_user]\n",
        "\n",
        "    timeline = df.groupby(['year', 'month_num', 'month']).count()['message'].reset_index()\n",
        "    month_timeline = []\n",
        "    for i in range(timeline.shape[0]):\n",
        "        month_timeline.append(timeline['month'][i]+\"-\"+str(timeline['year'][i]))\n",
        "\n",
        "    timeline['time'] = month_timeline\n",
        "    return timeline\n",
        "\n",
        "def daily_timeline(selected_user,df):\n",
        "    if selected_user != 'Overall':\n",
        "        df = df[df['user'] == selected_user]\n",
        "    daily_timeline = df.groupby('only_date').count()['message'].reset_index()\n",
        "    return daily_timeline\n",
        "\n",
        "def week_activity_map(selected_user,df):\n",
        "    if selected_user != 'Overall':\n",
        "        df = df[df['user'] == selected_user]\n",
        "    return df['day_name'].value_counts()\n",
        "\n",
        "def month_activity_map(selected_user,df):\n",
        "    if selected_user != 'Overall':\n",
        "        df = df[df['user'] == selected_user]\n",
        "    return df['month'].value_counts()\n",
        "\n",
        "def activity_heatmap(selected_user,df):\n",
        "    if selected_user != 'Overall':\n",
        "        df = df[df['user'] == selected_user]\n",
        "\n",
        "    user_heatmap = df.pivot_table(index='day_name', columns='period',\n",
        "                values='message', aggfunc='count').fillna(0)\n",
        "    return user_heatmap\n"
      ]
    },
    {
      "cell_type": "code",
      "execution_count": null,
      "metadata": {
        "id": "1pUGkWT97VqA"
      },
      "outputs": [],
      "source": []
    },
    {
      "cell_type": "code",
      "execution_count": null,
      "metadata": {
        "id": "V_2wIgRz5osx"
      },
      "outputs": [],
      "source": []
    },
    {
      "cell_type": "code",
      "execution_count": null,
      "metadata": {
        "id": "oVjbX0cP7RmT"
      },
      "outputs": [],
      "source": []
    },
    {
      "cell_type": "code",
      "execution_count": null,
      "metadata": {
        "id": "3Cc3PvniJDm9"
      },
      "outputs": [],
      "source": []
    },
    {
      "cell_type": "code",
      "execution_count": null,
      "metadata": {
        "id": "Y_x8c6qyLBTR"
      },
      "outputs": [],
      "source": []
    },
    {
      "cell_type": "code",
      "execution_count": null,
      "metadata": {
        "id": "teQuFsxzGoJ9"
      },
      "outputs": [],
      "source": []
    },
    {
      "cell_type": "code",
      "execution_count": null,
      "metadata": {
        "id": "WK_cbq7tG-RF"
      },
      "outputs": [],
      "source": []
    }
  ],
  "metadata": {
    "colab": {
      "provenance": []
    },
    "kernelspec": {
      "display_name": "Python 3",
      "name": "python3"
    },
    "language_info": {
      "name": "python"
    }
  },
  "nbformat": 4,
  "nbformat_minor": 0
}